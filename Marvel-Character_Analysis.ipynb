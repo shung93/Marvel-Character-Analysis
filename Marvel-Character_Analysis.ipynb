{
 "cells": [
  {
   "cell_type": "markdown",
   "metadata": {},
   "source": [
    "# Introduction "
   ]
  },
  {
   "cell_type": "markdown",
   "metadata": {},
   "source": [
    "### 1. Set Up for Retrieving Data from the Marvel API \n",
    "- Import needed libraries and modules\n",
    "- Set up API Keys and hash key for the Marvel API "
   ]
  },
  {
   "cell_type": "code",
   "execution_count": 643,
   "metadata": {},
   "outputs": [],
   "source": [
    "# for importing my API key \n",
    "import sys\n",
    "import os \n",
    "module_path = os.path.abspath(os.path.join('..')) \n",
    "from apikeys import API_KEY_PRIVATE\n",
    "from apikeys import API_KEY_PUBLIC\n",
    "\n",
    "# libraries for data analysis\n",
    "import numpy as np \n",
    "import pandas as pd\n",
    "import requests\n",
    "import time\n",
    "from bokeh.io import show, output_file\n",
    "from bokeh.plotting import figure"
   ]
  },
  {
   "cell_type": "code",
   "execution_count": 5,
   "metadata": {},
   "outputs": [],
   "source": [
    "# creating hash key needed for Marvel's API requests \n",
    "from hashlib import md5\n",
    "import time \n",
    "\n",
    "ts = str(time.time())\n",
    "combined = ''.join([ts, API_KEY_PRIVATE, API_KEY_PUBLIC])\n",
    "hash_value = md5(combined.encode('ascii')).hexdigest()"
   ]
  },
  {
   "cell_type": "markdown",
   "metadata": {},
   "source": [
    "### 2. Functions Needed for Retrieving Data "
   ]
  },
  {
   "cell_type": "markdown",
   "metadata": {},
   "source": [
    "#### 2a. Searching for Individual Character Information\n",
    "- Functions will retrieve character information based on a character search (i.e., searching for Spider-Man, Wolverine, Avengers, etc.) "
   ]
  },
  {
   "cell_type": "code",
   "execution_count": 327,
   "metadata": {},
   "outputs": [],
   "source": [
    "def get_characterInfo(character_name):\n",
    "    \"\"\"Takes a character's name (should be spelled correctly) and retrieves and returns that character's ID.\"\"\"\n",
    "    \n",
    "    params = {'ts': ts, 'apikey': API_KEY_PUBLIC, 'hash': hash_value, 'name':character_name} # set the parameters for the API\n",
    "    \n",
    "    response = requests.get('https://gateway.marvel.com:443/v1/public/characters', params = params) # searching for the provided character\n",
    "    response_json = response.json()\n",
    "    \n",
    "    # use TRY and EXCEPT to determine whether or not the provided character name is valid (returned results)\n",
    "    try:\n",
    "        char_dict = {} # set character dictionary \n",
    "        response_data = response_json['data']['results'][0] # set variable name so bottom code looks cleaner \n",
    "        data_variables = ['id', 'name', 'description', 'resourceURI']\n",
    "        \n",
    "        for key in data_variables:\n",
    "            char_dict[key] = response_data[key] \n",
    "        \n",
    "        char_dict['thumbnail'] = response_data['thumbnail']['path']\n",
    "        char_dict['thumbnail_ext'] = response_data['thumbnail']['extension']\n",
    "        char_dict['char_comic_count'] = response_data['comics']['available']\n",
    "        char_dict['char_series_count'] = response_data['series']['available']\n",
    "        char_dict['comics_url'] = response_data['urls'][0]['url']\n",
    "        char_dict['wiki_url'] = response_data['urls'][1]['url']\n",
    "        \n",
    "        time.sleep(np.random.randint(1,3))\n",
    "        return char_dict\n",
    "    \n",
    "    except:\n",
    "        print('{} is an invalid character name.'.format(character_name))\n",
    "        return 999"
   ]
  },
  {
   "cell_type": "code",
   "execution_count": 195,
   "metadata": {},
   "outputs": [],
   "source": [
    "def get_multiCharacterInfo(char_list):\n",
    "    \"\"\"Takes a list of character names and will use get their character info. Will convert dictionary information\n",
    "    into a dataframe. Returns a dataframe.\"\"\"\n",
    "    \n",
    "    # list comprehension for character info dictionary\n",
    "    # will not add info to list if function returns 999 (meaning not a valid/searchable character)\n",
    "    multi_char_info = [char_info for char_info in (get_characterInfo(char) for char in char_list) if char_info != 999]\n",
    "    \n",
    "    # convert to dataframe \n",
    "    char_df = pd.DataFrame(multi_char_info)\n",
    "    \n",
    "    return char_df "
   ]
  },
  {
   "cell_type": "markdown",
   "metadata": {},
   "source": [
    "#### 2b. Functions for Getting Comic Series Information for a Character\n",
    "*NOTE: These were used for my own initial exploration of the API; these were not used for the final parts of this assignment. Section 2b contains most of the functions used in this assignment.* \n",
    "- This is specifically for retrieving comic series information (not to be confused with information for individual comics).\n"
   ]
  },
  {
   "cell_type": "code",
   "execution_count": 52,
   "metadata": {},
   "outputs": [],
   "source": [
    "def get_characterSeries(char_id):\n",
    "    \"\"\"Takes a character's ID and returns all of the comic series that the character has been in.\"\"\"\n",
    "    \n",
    "    # set initial offset number \n",
    "    offset = 0\n",
    "    \n",
    "    # creating a count for tracking # of times requests have been sent to the API \n",
    "    req_count = 0\n",
    "    \n",
    "    # Pull the initial 100 series of the character; outside of loop as to retrieve initial count of series \n",
    "    params = {'ts': ts, 'apikey': API_KEY_PUBLIC, 'hash': hash_value, 'orderBy':'startYear', 'limit':100, 'offset':offset} # setting params\n",
    "    response = requests.get('https://gateway.marvel.com:443/v1/public/characters/{}/series?'.format(char_id), params = params) # end point for a character's series\n",
    "    json_response = response.json()\n",
    "    \n",
    "    req_count += 1 # uptick count\n",
    "    \n",
    "    char_series_count = json_response['data']['total'] # getting the total number of series with the character\n",
    "    response_result_count = json_response['data']['count'] # getting the total number of returned results (100 every time, unless returned results <100)\n",
    "    \n",
    "    # append all of the series info into 1 list \n",
    "    total_series_list = []\n",
    "    total_series_list.extend(json_response['data']['results'])\n",
    "    \n",
    "    offset += response_result_count\n",
    "    \n",
    "    # while loop: as long as the number of responses we have is less than the total number of series, then we keep requesting for the next 100 results\n",
    "    while offset < char_series_count:\n",
    "        params = {'ts': ts, 'apikey': API_KEY_PUBLIC, 'hash': hash_value, 'orderBy':'startYear', 'limit':100, 'offset':offset}\n",
    "        response = requests.get('https://gateway.marvel.com:443/v1/public/characters/{}/series?'.format(char_id), params = params)\n",
    "        json_response = response.json()\n",
    "        \n",
    "        req_count += 1 # uptick count\n",
    "        \n",
    "        response_result_count = json_response['data']['count'] # getting the total number of returned results (100 every time, unless returned results <100)\n",
    "        total_series_list.extend(json_response['data']['results'])\n",
    "        \n",
    "        offset += response_result_count\n",
    "        \n",
    "        time.sleep(0.5)\n",
    "    \n",
    "    print('Number of requests made: {}'.format(req_count))\n",
    "    return total_series_list"
   ]
  },
  {
   "cell_type": "code",
   "execution_count": 20,
   "metadata": {},
   "outputs": [],
   "source": [
    "def get_seriesInfo(comic_series, col_header_list=1):\n",
    "    \"\"\"Takes a list of dictionaries that contains a character's comic's series information (the output from \n",
    "    the get_CharacterSeries function) and returns a list of lists containing the following information:\n",
    "    a series' id, title, description, start and end year, and type.\n",
    "    Takes a list as a second argument. List should be keys from the dictionary of appropriate information.\n",
    "    Used for creating a comic series dataframe.\"\"\"\n",
    "    \n",
    "    if col_header_list == 1:\n",
    "        col_header_list = ['id', 'title', 'description', 'startYear', 'endYear', 'type', 'resourceURI']\n",
    "    else:\n",
    "        col_header_list = col_header_list\n",
    "    \n",
    "    series_info_list = [] # initialize empty list \n",
    "    \n",
    "    for idx in range(len(comic_series)): # iterate through the list of dictionaries \n",
    "        # use a list comprehension to get the correct keys (id, title, desc, etc.) from the dictionary and append to overall list\n",
    "        series_info_list.append([comic_series[idx][key] for key in col_header_list])\n",
    "     \n",
    "    return series_info_list"
   ]
  },
  {
   "cell_type": "code",
   "execution_count": 128,
   "metadata": {},
   "outputs": [],
   "source": [
    "def get_seriesCharacters(comic_series):\n",
    "    \"\"\"Takes a list of dictionaries (comic_series) and returns a list of lists. Each item in the list is \n",
    "    the comic series' ID, associated character, and the API URI link for that character. \n",
    "    The returned list of lists will be used for a comic series characters dataframe. The URI link will be used for \n",
    "    extracting each character's ID and can be used for further web scraping. \n",
    "    NOTE: comic_series (list of dictionaries returned from get_characterSeries function) returns only twenty\n",
    "    characters per each comic series (i.e., a series may have 43 characters appear in that series, but only 20 \n",
    "    character results are returned). Therefore data is complete through this endpoint.\"\"\"\n",
    "    \n",
    "    total_char_info_list = [] # create whole list \n",
    "    for idx in range(len(comic_series)): # get index for each item in comic_series\n",
    "        for item in comic_series[idx]['characters']['items']: # iterate through each series' character items\n",
    "            char_info_list = [comic_series[idx]['id'], item['name'], item['resourceURI']] # get the comic series ID, char name, and char URI link\n",
    "            total_char_info_list.append(char_info_list)\n",
    "    \n",
    "    return total_char_info_list "
   ]
  },
  {
   "cell_type": "markdown",
   "metadata": {},
   "source": [
    "#### 2c. Functions for Getting Individual Comic Information for a Character\n",
    "- This is specifically for retrieving all of the individual comics that a chracter has appeared in. This is defined as comics that feature the character. \n",
    "- These functions are the primary functions used for this assignment. \n",
    "\n",
    "*Note: This will require more requests from the Marvel API. \n",
    "User may be rate limited as Marvel only allows 3000 requests per day.* "
   ]
  },
  {
   "cell_type": "code",
   "execution_count": 596,
   "metadata": {},
   "outputs": [],
   "source": [
    "def get_characterComics(char_id):\n",
    "    \"\"\"Takes a character's ID and returns all of the individual comics that the character has been in.\"\"\"\n",
    "    \n",
    "    # set initial offset number \n",
    "    offset = 0\n",
    "    \n",
    "    # creating a count for tracking # of times requests have been sent to the API \n",
    "    req_count = 0\n",
    "    \n",
    "    # Pull the initial 100 comics of the character; outside of loop as to retrieve initial count of series \n",
    "    params = {'ts': ts, 'apikey': API_KEY_PUBLIC, 'hash': hash_value, 'orderBy':'onsaleDate', 'limit':100, 'offset':offset} # setting params\n",
    "    response = requests.get('https://gateway.marvel.com:443/v1/public/characters/{}/comics'.format(char_id), params = params) # searching for the provided character\n",
    "    # print(response) # print the API request results to see if any errors are returned\n",
    "    json_response = response.json()\n",
    "    \n",
    "    req_count += 1 # uptick count\n",
    "    \n",
    "    char_comics_count = json_response['data']['total'] # getting the total number of comics with the character\n",
    "    response_result_count = json_response['data']['count'] # getting the total number of returned results (100 every time, unless returned results <100)\n",
    "    \n",
    "    # append all of the series info into 1 list \n",
    "    total_comics_list = []\n",
    "    total_comics_list.extend(json_response['data']['results'])\n",
    "    \n",
    "    offset += response_result_count\n",
    "    \n",
    "    # while loop: as long as the number of responses we have is less than the total number of series, then we keep requesting for the next 100 results\n",
    "    while offset < char_comics_count:\n",
    "        # using TRY and EXCEPT so that if a request returns an error, rerun the request until all results are returned \n",
    "        # (I typically encountered a 500 internal server error)\n",
    "        try:\n",
    "            params = {'ts': ts, 'apikey': API_KEY_PUBLIC, 'hash': hash_value, 'orderBy':'onsaleDate', 'limit':100, 'offset':offset} \n",
    "            response = requests.get('https://gateway.marvel.com:443/v1/public/characters/{}/comics'.format(char_id), params = params) \n",
    "            # print(response) # print the API request results to see if any errors are returned\n",
    "            json_response = response.json()\n",
    "\n",
    "            req_count += 1 # uptick count\n",
    "\n",
    "            response_result_count = json_response['data']['count'] # getting the total number of returned results (100 every time, unless returned results <100)\n",
    "            total_comics_list.extend(json_response['data']['results'])\n",
    "\n",
    "            offset += response_result_count\n",
    "            #time.sleep(np.random.randint(2,8)) # random sleep times as to not be rate limited \n",
    "            time.sleep(0.5)\n",
    "        except:\n",
    "            continue\n",
    "    \n",
    "    print('Number of requests made: {}'.format(req_count))\n",
    "    return total_comics_list"
   ]
  },
  {
   "cell_type": "code",
   "execution_count": 422,
   "metadata": {},
   "outputs": [],
   "source": [
    "def get_comicsInfo(comics, char_id, col_header_list=1):\n",
    "    \"\"\"Takes a list of dictionaries that contains a character's comic information (the output from \n",
    "    the get_CharacterComics function) and returns a list of lists containing the following information:\n",
    "    a comic's id, title, issue number, description, series, the date the comic was on sale.\n",
    "    Takes a list as a second argument. List should be keys from the dictionary of appropriate information.\n",
    "    Used for creating a comic series dataframe.\n",
    "    col_header_list argument is for the option of modifying desired fields to retrieve from the list of dictionaries.\"\"\"\n",
    "    \n",
    "    if col_header_list == 1:\n",
    "        col_header_list = ['id', 'title', 'issueNumber', 'resourceURI', 'description']\n",
    "    else:\n",
    "        col_header_list = col_header_list\n",
    "    \n",
    "    comics_info_list = [] # initialize empty list \n",
    "    \n",
    "    for idx in range(len(comics)): # iterate through the list of dictionaries \n",
    "        temp_dict = {key:comics[idx][key] for key in col_header_list} # dict comprehension to get basic information (as indicated by the col_header_list)\n",
    "        temp_dict['seriesURI'] = comics[idx]['series']['resourceURI'] # get the series that the comic belongs to \n",
    "        temp_dict['onsaleDate'] = comics[idx]['dates'][0]['date'] # get the original onsale date of the comic\n",
    "        temp_dict['char_id'] = char_id\n",
    "        comics_info_list.append(temp_dict)\n",
    "        \n",
    "    return comics_info_list"
   ]
  },
  {
   "cell_type": "code",
   "execution_count": 133,
   "metadata": {},
   "outputs": [],
   "source": [
    "def get_comicCharacters(comics):\n",
    "    \"\"\"Takes a list of dictionaries of individual comic information and returns a list of dicts. \n",
    "    Each item in the dictionary contains the comic's ID, associated character, and the API URI link for that character.\n",
    "    The individual comic endpoint returns all of the characters that appeared in that comic, creating a more \n",
    "    complete dataset.\"\"\"\n",
    "    \n",
    "    total_char_info_list = [] # create whole list of character information\n",
    "    \n",
    "    for idx in range(len(comics)): # iterate through list of dictionaries\n",
    "        for item in comics[idx]['characters']['items']: # iterate through each comic's character items\n",
    "            # creating temporary dictionary which will be added to the total list of character comics\n",
    "            temp_dict = {}\n",
    "            temp_dict['comic_id'] = comics[idx]['id']\n",
    "            temp_dict['character'] = item['name']\n",
    "            temp_dict['character_URI'] = item['resourceURI']\n",
    "            total_char_info_list.append(temp_dict)\n",
    "    \n",
    "    return total_char_info_list "
   ]
  },
  {
   "cell_type": "code",
   "execution_count": 427,
   "metadata": {},
   "outputs": [],
   "source": [
    "def get_multiCharComics(char_ids):\n",
    "    \"\"\"Takes a list of character IDs and get the comic information for each character. \n",
    "    Returns a dataframe.\"\"\"\n",
    "    \n",
    "    # empty lists to store many results from get_comicsInfo and get_comicCharacters functions \n",
    "    comics_info = []\n",
    "    char_info = []\n",
    "    \n",
    "    for char_id in char_ids:\n",
    "        temp_comic_list = get_characterComics(char_id)\n",
    "        temp_comic_info = get_comicsInfo(temp_comic_list, char_id)\n",
    "        temp_char_info = get_comicCharacters(char_comic_list)\n",
    "        \n",
    "        comics_info.extend(temp_comic_info)\n",
    "        char_info.extend(temp_char_info)\n",
    "    \n",
    "    # convert lists of dicts to DF \n",
    "    comics_df = pd.DataFrame(comics_info) \n",
    "    char_df = pd.DataFrame(char_info)\n",
    "    \n",
    "    \n",
    "    return comics_df, char_df"
   ]
  },
  {
   "cell_type": "markdown",
   "metadata": {},
   "source": [
    "# Final Manipulation of Dataframes"
   ]
  },
  {
   "cell_type": "markdown",
   "metadata": {},
   "source": [
    "### 1. Get the initial character information \n",
    "- Retrieves character information for the top 25 Marvel characters from the past decade (as indicated by cbr.com). \n",
    "- After retrieving the character information dataframe, the dataframe is converted to a CSV file. \n",
    "\n",
    "*Note: I was unable to return any results for the 'War Machine' character.*"
   ]
  },
  {
   "cell_type": "code",
   "execution_count": 613,
   "metadata": {},
   "outputs": [],
   "source": [
    "# top characters pulled from: https://www.cbr.com/best-marvel-heroes-decade/\n",
    "top_characters = ['she-hulk (jennifer walters)','fantastic four','ant-man (scott lang)','storm','daredevil',\n",
    "                  'captain marvel (carol danvers)','black widow',\n",
    "                  'falcon','winter soldier','runaways','luke cage',\n",
    "                  'hawkeye','thor','guardians of the galaxy','ms. marvel (kamala khan)','squirrel girl','hulk',\n",
    "                  'spider-man (miles morales)','deadpool','black panther','wolverine','iron man',\n",
    "                  'captain america','spider-man']"
   ]
  },
  {
   "cell_type": "code",
   "execution_count": 614,
   "metadata": {
    "scrolled": true
   },
   "outputs": [],
   "source": [
    "char_df = get_multiCharacterInfo(top_characters)"
   ]
  },
  {
   "cell_type": "code",
   "execution_count": 330,
   "metadata": {},
   "outputs": [],
   "source": [
    "# Save the dataframe as a CSV file for future use\n",
    "char_df.to_csv('character_info.csv')\n",
    "\n",
    "# get a list of character ids\n",
    "char_ids = list(char_df['id'])"
   ]
  },
  {
   "cell_type": "markdown",
   "metadata": {},
   "source": [
    "### 2. Get all character comics \n",
    "- Requesting 20+ character's comics from the API was a lengthy process; as such I saved the results as CSV files (steps below)"
   ]
  },
  {
   "cell_type": "code",
   "execution_count": 353,
   "metadata": {},
   "outputs": [],
   "source": [
    "# Note: pulling a large list of comic book characters will require many requests from the API and will take \n",
    "# comics_df, char_df = get_multiCharComics(char_ids)\n",
    "# comics_df.to_csv('total_comics.csv')\n",
    "# char_df.to_csv('total_characters.csv')"
   ]
  },
  {
   "cell_type": "code",
   "execution_count": 619,
   "metadata": {},
   "outputs": [],
   "source": [
    "# I saved the requested data as CSV files; reading the files back for analysis\n",
    "char_info_df = pd.read_csv('character_info.csv') # contains basic information for each character (1 row per character)\n",
    "comics_df  = pd.read_csv('total_comics.csv') # contains all comics that features a character (1 row per comic per character)\n",
    "chars_df = pd.read_csv('total_characters.csv') # contains all characters that appear within a comic"
   ]
  },
  {
   "cell_type": "code",
   "execution_count": 721,
   "metadata": {},
   "outputs": [],
   "source": [
    "# create a copy as to not alter the original\n",
    "comics_df1 = comics_df.copy()"
   ]
  },
  {
   "cell_type": "markdown",
   "metadata": {},
   "source": [
    "### 3. Cleaning Data\n",
    "- After retrieving the data from the API, the next part is to clean up some of the data in the dataframes. This may include cleaning up some of the date fields, combining certain columns together, etc."
   ]
  },
  {
   "cell_type": "code",
   "execution_count": null,
   "metadata": {},
   "outputs": [],
   "source": [
    "# rename id column to char_id\n",
    "char_info_df.rename(columns={'id':'char_id'}, inplace=True)"
   ]
  },
  {
   "cell_type": "code",
   "execution_count": 641,
   "metadata": {},
   "outputs": [
    {
     "name": "stdout",
     "output_type": "stream",
     "text": [
      "Spider-Man's image link: http://i.annihil.us/u/prod/marvel/i/mg/3/50/526548a343e4b.jpg\n"
     ]
    }
   ],
   "source": [
    "# combining the char_info_df thumbnail and thumbnail_ext columns to have a full link (add on the extention to end of link)\n",
    "char_info_df[\"thumbnail_link\"] = char_info_df[\"thumbnail\"] + \".\"+ char_info_df[\"thumbnail_ext\"]\n",
    "char_info_df.drop(['thumbnail', 'thumbnail_ext'], axis=1, inplace=True)\n",
    "\n",
    "print(\"{}'s image link: {}\".format(char_info_df['name'][23],char_info_df['thumbnail_link'][23]))"
   ]
  },
  {
   "cell_type": "code",
   "execution_count": 724,
   "metadata": {},
   "outputs": [],
   "source": [
    "# Removing rows where there is a missing character ID (these rows also happened to have all NaN values)\n",
    "nan_idx = comics_df1[comics_df1['char_id'].isna()].index\n",
    "comics_df1.drop(comics_df1.index[nan_idx], inplace=True)"
   ]
  },
  {
   "cell_type": "code",
   "execution_count": 748,
   "metadata": {},
   "outputs": [],
   "source": [
    "# remove rows where the characters ID don't matched the original list of character IDs\n",
    "# some of the requested results had a different dictionary structure, resulting in NaN rows and incorrect data\n",
    "# some data returned no values \n",
    "comics_df1 = comics_df1[comics_df1.char_id.isin(char_ids)]"
   ]
  },
  {
   "cell_type": "code",
   "execution_count": 764,
   "metadata": {},
   "outputs": [],
   "source": [
    "# converting onsaleDate column to actual date\n",
    "comics_df1['date'] = comics_df1['onsaleDate'].str[:10] # select first 10 characters of the string as the date\n",
    "# if first 10 characters weren't a valid date, then coerce value as NaT (non parseable date)\n",
    "# example of invalid date: '-0001-11-30'\n",
    "comics_df1['date'] = pd.to_datetime(comics_df1['date'], errors='coerce') "
   ]
  },
  {
   "cell_type": "code",
   "execution_count": 784,
   "metadata": {},
   "outputs": [],
   "source": [
    "comics_df1 = pd.merge(comics_df1, char_info_df, on='char_id')"
   ]
  },
  {
   "cell_type": "code",
   "execution_count": 786,
   "metadata": {},
   "outputs": [
    {
     "data": {
      "text/plain": [
       "Index(['char_id', 'description_x', 'id', 'issueNumber', 'onsaleDate',\n",
       "       'resourceURI_x', 'seriesURI', 'title', 'date', 'char_comic_count',\n",
       "       'char_series_count', 'comics_url', 'description_y', 'name',\n",
       "       'resourceURI_y', 'wiki_url', 'thumbnail_link'],\n",
       "      dtype='object')"
      ]
     },
     "execution_count": 786,
     "metadata": {},
     "output_type": "execute_result"
    }
   ],
   "source": [
    "comics_df1.columns"
   ]
  },
  {
   "cell_type": "markdown",
   "metadata": {},
   "source": [
    "### 4. Plotting Data"
   ]
  },
  {
   "cell_type": "markdown",
   "metadata": {},
   "source": [
    "#### Plotting Number of Comics per Character"
   ]
  },
  {
   "cell_type": "code",
   "execution_count": 941,
   "metadata": {},
   "outputs": [],
   "source": [
    "# Bar plot of number of comic counts for each character\n",
    "output_file(\"char_counts.html\")\n",
    "\n",
    "sorted_char_info = char_info_df[['name', 'char_comic_count', 'thumbnail_link']].sort_values(['char_comic_count'], ascending=False)\n",
    "\n",
    "char_names = list(sorted_char_info['name'])\n",
    "comic_count = list(sorted_char_info['char_comic_count'])\n",
    "thumbnails = list(sorted_char_info['thumbnail_link'])\n",
    "\n",
    "data = {'char_names': char_names,\n",
    "       'comic_count': comic_count,\n",
    "       'thumbnails': thumbnails}\n",
    "\n",
    "# adding hover details (hovering over a bar will display character and their number of comics)\n",
    "TOOLTIPS = \"\"\"\n",
    "    <div>\n",
    "        <div>\n",
    "            <img\n",
    "                src=\"@thumbnails\" height=\"42\" alt=\"@thumbnails\" width=\"42\"\n",
    "                style=\"float: left; margin: 0px 15px 15px 0px;\"\n",
    "                border=\"1\"\n",
    "            ></img>\n",
    "        </div>\n",
    "        <div>\n",
    "            <span style=\"font-size: 11px; font-weight: bold;\">@char_names</span>\n",
    "        </div>\n",
    "        <div>\n",
    "            <span style=\"font-size: 10px; color: #4c333;\">Comic Count: @comic_count</span>\n",
    "        </div>\n",
    "    </div>\n",
    "\"\"\"\n",
    "\n",
    "p = figure(x_range=char_names, plot_height=500, plot_width=800, title=\"Number of Comics Per Character\",\n",
    "           toolbar_location=None, tooltips=TOOLTIPS)\n",
    "\n",
    "p.vbar(x='char_names', top='comic_count', width=0.8, source=data)\n",
    "\n",
    "p.xgrid.grid_line_color = None\n",
    "p.ygrid.grid_line_color = None\n",
    "p.xaxis.major_label_orientation = np.pi/4\n",
    "p.y_range.start = -30\n",
    "\n",
    "show(p)"
   ]
  },
  {
   "cell_type": "markdown",
   "metadata": {},
   "source": [
    "#### Plotting Number of Comics per Year per Character\n",
    "Selected characters are as follows: \n",
    "- 'Black Panther'\n",
    "- 'Captain America'\n",
    "- 'Deadpool'\n",
    "- 'Hulk'\n",
    "- 'Iron Man'\n",
    "- 'Spider-Man'\n",
    "- 'Spider-Man (Miles Morales)'\n",
    "- 'Wolverine'"
   ]
  },
  {
   "cell_type": "code",
   "execution_count": 808,
   "metadata": {},
   "outputs": [],
   "source": [
    "# Grouping comics dataframe by character name and year of comic (get count per year)\n",
    "grped_count_comics_df = comics_df1.groupby(['name', comics_df1['date'].map(lambda x: x.year)]).count()\n",
    "#grped_count_comics_df = pd.DataFrame(grped_count_comics_df['char_id']).rename(columns={'char_id':'count'})"
   ]
  },
  {
   "cell_type": "code",
   "execution_count": 915,
   "metadata": {},
   "outputs": [],
   "source": [
    "top_chars = ['Black Panther', 'Captain America', 'Deadpool', 'Hulk', \n",
    "            'Iron Man','Spider-Man','Spider-Man (Miles Morales)', 'Wolverine']\n",
    "# Filtering original dataset\n",
    "top_grped_comics = grped_count_comics_df[grped_count_comics_df.index.get_level_values('name').isin(top_10_chars)]"
   ]
  },
  {
   "cell_type": "code",
   "execution_count": 918,
   "metadata": {},
   "outputs": [],
   "source": [
    "# reducing the dataframe to 1 column\n",
    "top_grped_comics = pd.DataFrame(top_grped_comics['char_id']).rename(columns={'char_id':'counts'})"
   ]
  },
  {
   "cell_type": "code",
   "execution_count": 919,
   "metadata": {},
   "outputs": [],
   "source": [
    "# resetting the index (as the group by function had originally created indexes for each Character Name and Year)\n",
    "top_grped_comics.reset_index(level=1, inplace=True)\n",
    "top_grped_comics.reset_index(level=0, inplace=True)"
   ]
  },
  {
   "cell_type": "code",
   "execution_count": 940,
   "metadata": {},
   "outputs": [],
   "source": [
    "# Plotting \n",
    "output_file(\"comic_counts_year.html\")\n",
    "\n",
    "p = figure(title=\"title\", x_axis_label='yr', y_axis_label='y',plot_width=800, plot_height=500, x_range=(1940, 2030))\n",
    "\n",
    "colors = ['#0097a7','#ffd54f','#7cb342','#ec407a','#3f51b5','#f44336','#330000','#0066FF','#006666','#424949','#873600'] # a list of interesting colors\n",
    "color_index = 0\n",
    "\n",
    "for name in top_chars:\n",
    "    temp_df = top_grped_comics[top_grped_comics['name']==name]\n",
    "    r = p.line(temp_df['date'], temp_df['counts'], line_width=2, alpha=0.8, color=colors[color_index],\n",
    "               muted_alpha=0.2, legend=name)\n",
    "    r.muted=True # muting each line so as to not have a messy graph\n",
    "    color_index+=1\n",
    "\n",
    "r.muted=False\n",
    "p.xgrid.grid_line_color = None\n",
    "p.ygrid.grid_line_color = None\n",
    "p.legend.location = \"top_left\"    \n",
    "p.legend.click_policy=\"mute\"\n",
    "\n",
    "show(p)"
   ]
  },
  {
   "cell_type": "markdown",
   "metadata": {},
   "source": [
    "## Creating Edge List from chars_df "
   ]
  },
  {
   "cell_type": "code",
   "execution_count": 948,
   "metadata": {},
   "outputs": [],
   "source": [
    "import itertools\n",
    "import networkx as nx"
   ]
  },
  {
   "cell_type": "code",
   "execution_count": 961,
   "metadata": {},
   "outputs": [],
   "source": [
    "G = nx.Graph()\n",
    "G.add_nodes_from(chars_df['character'].values)\n",
    "\n",
    "# Create edges \n",
    "for idx, group in chars_df.groupby(['comic_id'])['character']:\n",
    "    # generate edge list combination based on comic_id groupings\n",
    "    for char1, char2 in itertools.combinations(group, 2): # creating combinations of each character (no replacement)    \n",
    "        G.add_edge(char1, char2)\n",
    "        \n",
    "#print(G.edges())"
   ]
  },
  {
   "cell_type": "code",
   "execution_count": 972,
   "metadata": {},
   "outputs": [],
   "source": [
    "# displaying the characters with the highest degree (most connections with other characters)\n",
    "sorted_char_deg = sorted(G.degree, key=lambda x: x[1], reverse=True)"
   ]
  },
  {
   "cell_type": "code",
   "execution_count": 967,
   "metadata": {},
   "outputs": [],
   "source": [
    "nx_char_list = list(chars_df['character'].unique())"
   ]
  },
  {
   "cell_type": "code",
   "execution_count": 1007,
   "metadata": {},
   "outputs": [],
   "source": [
    "degree_list = [G.degree(char) for char in nx_char_list]\n",
    "degree_df = pd.DataFrame(degree_list, columns=['degree'])"
   ]
  },
  {
   "cell_type": "code",
   "execution_count": 1026,
   "metadata": {},
   "outputs": [
    {
     "data": {
      "text/plain": [
       "11"
      ]
     },
     "execution_count": 1026,
     "metadata": {},
     "output_type": "execute_result"
    }
   ],
   "source": [
    "len(degree_df[degree_df['degree'] > 400])"
   ]
  },
  {
   "cell_type": "code",
   "execution_count": 1027,
   "metadata": {},
   "outputs": [],
   "source": [
    "# 11 characters with more than 400 degrees (400 other connections)\n",
    "pop_chars = [char for char in nx_char_list if G.degree(char) > 400]\n"
   ]
  },
  {
   "cell_type": "code",
   "execution_count": 1035,
   "metadata": {},
   "outputs": [],
   "source": [
    "pop_chars_size = [G.degree(char)/2 for char in pop_chars]"
   ]
  },
  {
   "cell_type": "code",
   "execution_count": 1046,
   "metadata": {},
   "outputs": [
    {
     "ename": "ValueError",
     "evalue": "'c' argument has 24 elements, which is not acceptable for use with 'x' with size 1036, 'y' with size 1036.",
     "output_type": "error",
     "traceback": [
      "\u001b[1;31m---------------------------------------------------------------------------\u001b[0m",
      "\u001b[1;31mKeyError\u001b[0m                                  Traceback (most recent call last)",
      "\u001b[1;32m~\\Anaconda3\\lib\\site-packages\\matplotlib\\colors.py\u001b[0m in \u001b[0;36mto_rgba\u001b[1;34m(c, alpha)\u001b[0m\n\u001b[0;32m    173\u001b[0m     \u001b[1;32mtry\u001b[0m\u001b[1;33m:\u001b[0m\u001b[1;33m\u001b[0m\u001b[1;33m\u001b[0m\u001b[0m\n\u001b[1;32m--> 174\u001b[1;33m         \u001b[0mrgba\u001b[0m \u001b[1;33m=\u001b[0m \u001b[0m_colors_full_map\u001b[0m\u001b[1;33m.\u001b[0m\u001b[0mcache\u001b[0m\u001b[1;33m[\u001b[0m\u001b[0mc\u001b[0m\u001b[1;33m,\u001b[0m \u001b[0malpha\u001b[0m\u001b[1;33m]\u001b[0m\u001b[1;33m\u001b[0m\u001b[1;33m\u001b[0m\u001b[0m\n\u001b[0m\u001b[0;32m    175\u001b[0m     \u001b[1;32mexcept\u001b[0m \u001b[1;33m(\u001b[0m\u001b[0mKeyError\u001b[0m\u001b[1;33m,\u001b[0m \u001b[0mTypeError\u001b[0m\u001b[1;33m)\u001b[0m\u001b[1;33m:\u001b[0m  \u001b[1;31m# Not in cache, or unhashable.\u001b[0m\u001b[1;33m\u001b[0m\u001b[1;33m\u001b[0m\u001b[0m\n",
      "\u001b[1;31mKeyError\u001b[0m: (0, None)",
      "\nDuring handling of the above exception, another exception occurred:\n",
      "\u001b[1;31mValueError\u001b[0m                                Traceback (most recent call last)",
      "\u001b[1;32m~\\Anaconda3\\lib\\site-packages\\matplotlib\\axes\\_axes.py\u001b[0m in \u001b[0;36mscatter\u001b[1;34m(self, x, y, s, c, marker, cmap, norm, vmin, vmax, alpha, linewidths, verts, edgecolors, **kwargs)\u001b[0m\n\u001b[0;32m   4231\u001b[0m             \u001b[1;32mtry\u001b[0m\u001b[1;33m:\u001b[0m  \u001b[1;31m# Then is 'c' acceptable as PathCollection facecolors?\u001b[0m\u001b[1;33m\u001b[0m\u001b[1;33m\u001b[0m\u001b[0m\n\u001b[1;32m-> 4232\u001b[1;33m                 \u001b[0mcolors\u001b[0m \u001b[1;33m=\u001b[0m \u001b[0mmcolors\u001b[0m\u001b[1;33m.\u001b[0m\u001b[0mto_rgba_array\u001b[0m\u001b[1;33m(\u001b[0m\u001b[0mc\u001b[0m\u001b[1;33m)\u001b[0m\u001b[1;33m\u001b[0m\u001b[1;33m\u001b[0m\u001b[0m\n\u001b[0m\u001b[0;32m   4233\u001b[0m                 \u001b[0mn_elem\u001b[0m \u001b[1;33m=\u001b[0m \u001b[0mcolors\u001b[0m\u001b[1;33m.\u001b[0m\u001b[0mshape\u001b[0m\u001b[1;33m[\u001b[0m\u001b[1;36m0\u001b[0m\u001b[1;33m]\u001b[0m\u001b[1;33m\u001b[0m\u001b[1;33m\u001b[0m\u001b[0m\n",
      "\u001b[1;32m~\\Anaconda3\\lib\\site-packages\\matplotlib\\colors.py\u001b[0m in \u001b[0;36mto_rgba_array\u001b[1;34m(c, alpha)\u001b[0m\n\u001b[0;32m    274\u001b[0m     \u001b[1;32mfor\u001b[0m \u001b[0mi\u001b[0m\u001b[1;33m,\u001b[0m \u001b[0mcc\u001b[0m \u001b[1;32min\u001b[0m \u001b[0menumerate\u001b[0m\u001b[1;33m(\u001b[0m\u001b[0mc\u001b[0m\u001b[1;33m)\u001b[0m\u001b[1;33m:\u001b[0m\u001b[1;33m\u001b[0m\u001b[1;33m\u001b[0m\u001b[0m\n\u001b[1;32m--> 275\u001b[1;33m         \u001b[0mresult\u001b[0m\u001b[1;33m[\u001b[0m\u001b[0mi\u001b[0m\u001b[1;33m]\u001b[0m \u001b[1;33m=\u001b[0m \u001b[0mto_rgba\u001b[0m\u001b[1;33m(\u001b[0m\u001b[0mcc\u001b[0m\u001b[1;33m,\u001b[0m \u001b[0malpha\u001b[0m\u001b[1;33m)\u001b[0m\u001b[1;33m\u001b[0m\u001b[1;33m\u001b[0m\u001b[0m\n\u001b[0m\u001b[0;32m    276\u001b[0m     \u001b[1;32mreturn\u001b[0m \u001b[0mresult\u001b[0m\u001b[1;33m\u001b[0m\u001b[1;33m\u001b[0m\u001b[0m\n",
      "\u001b[1;32m~\\Anaconda3\\lib\\site-packages\\matplotlib\\colors.py\u001b[0m in \u001b[0;36mto_rgba\u001b[1;34m(c, alpha)\u001b[0m\n\u001b[0;32m    175\u001b[0m     \u001b[1;32mexcept\u001b[0m \u001b[1;33m(\u001b[0m\u001b[0mKeyError\u001b[0m\u001b[1;33m,\u001b[0m \u001b[0mTypeError\u001b[0m\u001b[1;33m)\u001b[0m\u001b[1;33m:\u001b[0m  \u001b[1;31m# Not in cache, or unhashable.\u001b[0m\u001b[1;33m\u001b[0m\u001b[1;33m\u001b[0m\u001b[0m\n\u001b[1;32m--> 176\u001b[1;33m         \u001b[0mrgba\u001b[0m \u001b[1;33m=\u001b[0m \u001b[0m_to_rgba_no_colorcycle\u001b[0m\u001b[1;33m(\u001b[0m\u001b[0mc\u001b[0m\u001b[1;33m,\u001b[0m \u001b[0malpha\u001b[0m\u001b[1;33m)\u001b[0m\u001b[1;33m\u001b[0m\u001b[1;33m\u001b[0m\u001b[0m\n\u001b[0m\u001b[0;32m    177\u001b[0m         \u001b[1;32mtry\u001b[0m\u001b[1;33m:\u001b[0m\u001b[1;33m\u001b[0m\u001b[1;33m\u001b[0m\u001b[0m\n",
      "\u001b[1;32m~\\Anaconda3\\lib\\site-packages\\matplotlib\\colors.py\u001b[0m in \u001b[0;36m_to_rgba_no_colorcycle\u001b[1;34m(c, alpha)\u001b[0m\n\u001b[0;32m    226\u001b[0m         \u001b[1;31m# Test dimensionality to reject single floats.\u001b[0m\u001b[1;33m\u001b[0m\u001b[1;33m\u001b[0m\u001b[1;33m\u001b[0m\u001b[0m\n\u001b[1;32m--> 227\u001b[1;33m         \u001b[1;32mraise\u001b[0m \u001b[0mValueError\u001b[0m\u001b[1;33m(\u001b[0m\u001b[1;34m\"Invalid RGBA argument: {!r}\"\u001b[0m\u001b[1;33m.\u001b[0m\u001b[0mformat\u001b[0m\u001b[1;33m(\u001b[0m\u001b[0morig_c\u001b[0m\u001b[1;33m)\u001b[0m\u001b[1;33m)\u001b[0m\u001b[1;33m\u001b[0m\u001b[1;33m\u001b[0m\u001b[0m\n\u001b[0m\u001b[0;32m    228\u001b[0m     \u001b[1;31m# Return a tuple to prevent the cached value from being modified.\u001b[0m\u001b[1;33m\u001b[0m\u001b[1;33m\u001b[0m\u001b[1;33m\u001b[0m\u001b[0m\n",
      "\u001b[1;31mValueError\u001b[0m: Invalid RGBA argument: 0",
      "\nDuring handling of the above exception, another exception occurred:\n",
      "\u001b[1;31mValueError\u001b[0m                                Traceback (most recent call last)",
      "\u001b[1;32m<ipython-input-1046-ae1f296929e0>\u001b[0m in \u001b[0;36m<module>\u001b[1;34m\u001b[0m\n\u001b[0;32m      7\u001b[0m \u001b[0mnx\u001b[0m\u001b[1;33m.\u001b[0m\u001b[0mdraw_networkx_nodes\u001b[0m\u001b[1;33m(\u001b[0m\u001b[0mG\u001b[0m\u001b[1;33m,\u001b[0m \u001b[0mlayout\u001b[0m\u001b[1;33m,\u001b[0m \u001b[0mnodelist\u001b[0m\u001b[1;33m=\u001b[0m\u001b[0mpop_chars\u001b[0m\u001b[1;33m,\u001b[0m \u001b[0mnode_color\u001b[0m\u001b[1;33m=\u001b[0m\u001b[1;34m'orange'\u001b[0m\u001b[1;33m,\u001b[0m \u001b[0mnode_size\u001b[0m\u001b[1;33m=\u001b[0m\u001b[0mpop_chars_size\u001b[0m\u001b[1;33m,\u001b[0m \u001b[0mlabel\u001b[0m\u001b[1;33m=\u001b[0m\u001b[0mpop_chars\u001b[0m\u001b[1;33m)\u001b[0m\u001b[1;33m\u001b[0m\u001b[1;33m\u001b[0m\u001b[0m\n\u001b[0;32m      8\u001b[0m \u001b[0mpos\u001b[0m \u001b[1;33m=\u001b[0m \u001b[0mnx\u001b[0m\u001b[1;33m.\u001b[0m\u001b[0mspring_layout\u001b[0m\u001b[1;33m(\u001b[0m\u001b[0mG\u001b[0m\u001b[1;33m,\u001b[0m \u001b[0miterations\u001b[0m\u001b[1;33m=\u001b[0m\u001b[1;36m200\u001b[0m\u001b[1;33m)\u001b[0m\u001b[1;33m\u001b[0m\u001b[1;33m\u001b[0m\u001b[0m\n\u001b[1;32m----> 9\u001b[1;33m \u001b[0mnx\u001b[0m\u001b[1;33m.\u001b[0m\u001b[0mdraw\u001b[0m\u001b[1;33m(\u001b[0m\u001b[0mG\u001b[0m\u001b[1;33m,\u001b[0m \u001b[0mpos\u001b[0m\u001b[1;33m,\u001b[0m \u001b[0mnode_color\u001b[0m\u001b[1;33m=\u001b[0m\u001b[0mrange\u001b[0m\u001b[1;33m(\u001b[0m\u001b[1;36m24\u001b[0m\u001b[1;33m)\u001b[0m\u001b[1;33m,\u001b[0m \u001b[0mnode_size\u001b[0m\u001b[1;33m=\u001b[0m\u001b[1;36m50\u001b[0m\u001b[1;33m,\u001b[0m \u001b[0mcmap\u001b[0m\u001b[1;33m=\u001b[0m\u001b[0mplt\u001b[0m\u001b[1;33m.\u001b[0m\u001b[0mcm\u001b[0m\u001b[1;33m.\u001b[0m\u001b[0mBlues\u001b[0m\u001b[1;33m)\u001b[0m\u001b[1;33m\u001b[0m\u001b[1;33m\u001b[0m\u001b[0m\n\u001b[0m\u001b[0;32m     10\u001b[0m \u001b[1;33m\u001b[0m\u001b[0m\n\u001b[0;32m     11\u001b[0m \u001b[0mplt\u001b[0m\u001b[1;33m.\u001b[0m\u001b[0mshow\u001b[0m\u001b[1;33m(\u001b[0m\u001b[1;33m)\u001b[0m\u001b[1;33m\u001b[0m\u001b[1;33m\u001b[0m\u001b[0m\n",
      "\u001b[1;32m~\\Anaconda3\\lib\\site-packages\\networkx\\drawing\\nx_pylab.py\u001b[0m in \u001b[0;36mdraw\u001b[1;34m(G, pos, ax, **kwds)\u001b[0m\n\u001b[0;32m    124\u001b[0m \u001b[1;33m\u001b[0m\u001b[0m\n\u001b[0;32m    125\u001b[0m     \u001b[1;32mtry\u001b[0m\u001b[1;33m:\u001b[0m\u001b[1;33m\u001b[0m\u001b[1;33m\u001b[0m\u001b[0m\n\u001b[1;32m--> 126\u001b[1;33m         \u001b[0mdraw_networkx\u001b[0m\u001b[1;33m(\u001b[0m\u001b[0mG\u001b[0m\u001b[1;33m,\u001b[0m \u001b[0mpos\u001b[0m\u001b[1;33m=\u001b[0m\u001b[0mpos\u001b[0m\u001b[1;33m,\u001b[0m \u001b[0max\u001b[0m\u001b[1;33m=\u001b[0m\u001b[0max\u001b[0m\u001b[1;33m,\u001b[0m \u001b[1;33m**\u001b[0m\u001b[0mkwds\u001b[0m\u001b[1;33m)\u001b[0m\u001b[1;33m\u001b[0m\u001b[1;33m\u001b[0m\u001b[0m\n\u001b[0m\u001b[0;32m    127\u001b[0m         \u001b[0max\u001b[0m\u001b[1;33m.\u001b[0m\u001b[0mset_axis_off\u001b[0m\u001b[1;33m(\u001b[0m\u001b[1;33m)\u001b[0m\u001b[1;33m\u001b[0m\u001b[1;33m\u001b[0m\u001b[0m\n\u001b[0;32m    128\u001b[0m         \u001b[0mplt\u001b[0m\u001b[1;33m.\u001b[0m\u001b[0mdraw_if_interactive\u001b[0m\u001b[1;33m(\u001b[0m\u001b[1;33m)\u001b[0m\u001b[1;33m\u001b[0m\u001b[1;33m\u001b[0m\u001b[0m\n",
      "\u001b[1;32m~\\Anaconda3\\lib\\site-packages\\networkx\\drawing\\nx_pylab.py\u001b[0m in \u001b[0;36mdraw_networkx\u001b[1;34m(G, pos, arrows, with_labels, **kwds)\u001b[0m\n\u001b[0;32m    275\u001b[0m         \u001b[0mpos\u001b[0m \u001b[1;33m=\u001b[0m \u001b[0mnx\u001b[0m\u001b[1;33m.\u001b[0m\u001b[0mdrawing\u001b[0m\u001b[1;33m.\u001b[0m\u001b[0mspring_layout\u001b[0m\u001b[1;33m(\u001b[0m\u001b[0mG\u001b[0m\u001b[1;33m)\u001b[0m  \u001b[1;31m# default to spring layout\u001b[0m\u001b[1;33m\u001b[0m\u001b[1;33m\u001b[0m\u001b[0m\n\u001b[0;32m    276\u001b[0m \u001b[1;33m\u001b[0m\u001b[0m\n\u001b[1;32m--> 277\u001b[1;33m     \u001b[0mnode_collection\u001b[0m \u001b[1;33m=\u001b[0m \u001b[0mdraw_networkx_nodes\u001b[0m\u001b[1;33m(\u001b[0m\u001b[0mG\u001b[0m\u001b[1;33m,\u001b[0m \u001b[0mpos\u001b[0m\u001b[1;33m,\u001b[0m \u001b[1;33m**\u001b[0m\u001b[0mkwds\u001b[0m\u001b[1;33m)\u001b[0m\u001b[1;33m\u001b[0m\u001b[1;33m\u001b[0m\u001b[0m\n\u001b[0m\u001b[0;32m    278\u001b[0m     \u001b[0medge_collection\u001b[0m \u001b[1;33m=\u001b[0m \u001b[0mdraw_networkx_edges\u001b[0m\u001b[1;33m(\u001b[0m\u001b[0mG\u001b[0m\u001b[1;33m,\u001b[0m \u001b[0mpos\u001b[0m\u001b[1;33m,\u001b[0m \u001b[0marrows\u001b[0m\u001b[1;33m=\u001b[0m\u001b[0marrows\u001b[0m\u001b[1;33m,\u001b[0m \u001b[1;33m**\u001b[0m\u001b[0mkwds\u001b[0m\u001b[1;33m)\u001b[0m\u001b[1;33m\u001b[0m\u001b[1;33m\u001b[0m\u001b[0m\n\u001b[0;32m    279\u001b[0m     \u001b[1;32mif\u001b[0m \u001b[0mwith_labels\u001b[0m\u001b[1;33m:\u001b[0m\u001b[1;33m\u001b[0m\u001b[1;33m\u001b[0m\u001b[0m\n",
      "\u001b[1;32m~\\Anaconda3\\lib\\site-packages\\networkx\\drawing\\nx_pylab.py\u001b[0m in \u001b[0;36mdraw_networkx_nodes\u001b[1;34m(G, pos, nodelist, node_size, node_color, node_shape, alpha, cmap, vmin, vmax, ax, linewidths, edgecolors, label, **kwds)\u001b[0m\n\u001b[0;32m    412\u001b[0m                                  \u001b[0mlinewidths\u001b[0m\u001b[1;33m=\u001b[0m\u001b[0mlinewidths\u001b[0m\u001b[1;33m,\u001b[0m\u001b[1;33m\u001b[0m\u001b[1;33m\u001b[0m\u001b[0m\n\u001b[0;32m    413\u001b[0m                                  \u001b[0medgecolors\u001b[0m\u001b[1;33m=\u001b[0m\u001b[0medgecolors\u001b[0m\u001b[1;33m,\u001b[0m\u001b[1;33m\u001b[0m\u001b[1;33m\u001b[0m\u001b[0m\n\u001b[1;32m--> 414\u001b[1;33m                                  label=label)\n\u001b[0m\u001b[0;32m    415\u001b[0m \u001b[1;33m\u001b[0m\u001b[0m\n\u001b[0;32m    416\u001b[0m     \u001b[0mnode_collection\u001b[0m\u001b[1;33m.\u001b[0m\u001b[0mset_zorder\u001b[0m\u001b[1;33m(\u001b[0m\u001b[1;36m2\u001b[0m\u001b[1;33m)\u001b[0m\u001b[1;33m\u001b[0m\u001b[1;33m\u001b[0m\u001b[0m\n",
      "\u001b[1;32m~\\Anaconda3\\lib\\site-packages\\matplotlib\\__init__.py\u001b[0m in \u001b[0;36minner\u001b[1;34m(ax, data, *args, **kwargs)\u001b[0m\n\u001b[0;32m   1808\u001b[0m                         \u001b[1;34m\"the Matplotlib list!)\"\u001b[0m \u001b[1;33m%\u001b[0m \u001b[1;33m(\u001b[0m\u001b[0mlabel_namer\u001b[0m\u001b[1;33m,\u001b[0m \u001b[0mfunc\u001b[0m\u001b[1;33m.\u001b[0m\u001b[0m__name__\u001b[0m\u001b[1;33m)\u001b[0m\u001b[1;33m,\u001b[0m\u001b[1;33m\u001b[0m\u001b[1;33m\u001b[0m\u001b[0m\n\u001b[0;32m   1809\u001b[0m                         RuntimeWarning, stacklevel=2)\n\u001b[1;32m-> 1810\u001b[1;33m             \u001b[1;32mreturn\u001b[0m \u001b[0mfunc\u001b[0m\u001b[1;33m(\u001b[0m\u001b[0max\u001b[0m\u001b[1;33m,\u001b[0m \u001b[1;33m*\u001b[0m\u001b[0margs\u001b[0m\u001b[1;33m,\u001b[0m \u001b[1;33m**\u001b[0m\u001b[0mkwargs\u001b[0m\u001b[1;33m)\u001b[0m\u001b[1;33m\u001b[0m\u001b[1;33m\u001b[0m\u001b[0m\n\u001b[0m\u001b[0;32m   1811\u001b[0m \u001b[1;33m\u001b[0m\u001b[0m\n\u001b[0;32m   1812\u001b[0m         inner.__doc__ = _add_data_doc(inner.__doc__,\n",
      "\u001b[1;32m~\\Anaconda3\\lib\\site-packages\\matplotlib\\axes\\_axes.py\u001b[0m in \u001b[0;36mscatter\u001b[1;34m(self, x, y, s, c, marker, cmap, norm, vmin, vmax, alpha, linewidths, verts, edgecolors, **kwargs)\u001b[0m\n\u001b[0;32m   4243\u001b[0m                         \u001b[1;34m\"acceptable for use with 'x' with size {xs}, \"\u001b[0m\u001b[1;33m\u001b[0m\u001b[1;33m\u001b[0m\u001b[0m\n\u001b[0;32m   4244\u001b[0m                         \u001b[1;34m\"'y' with size {ys}.\"\u001b[0m\u001b[1;33m\u001b[0m\u001b[1;33m\u001b[0m\u001b[0m\n\u001b[1;32m-> 4245\u001b[1;33m                         \u001b[1;33m.\u001b[0m\u001b[0mformat\u001b[0m\u001b[1;33m(\u001b[0m\u001b[0mnc\u001b[0m\u001b[1;33m=\u001b[0m\u001b[0mn_elem\u001b[0m\u001b[1;33m,\u001b[0m \u001b[0mxs\u001b[0m\u001b[1;33m=\u001b[0m\u001b[0mx\u001b[0m\u001b[1;33m.\u001b[0m\u001b[0msize\u001b[0m\u001b[1;33m,\u001b[0m \u001b[0mys\u001b[0m\u001b[1;33m=\u001b[0m\u001b[0my\u001b[0m\u001b[1;33m.\u001b[0m\u001b[0msize\u001b[0m\u001b[1;33m)\u001b[0m\u001b[1;33m\u001b[0m\u001b[1;33m\u001b[0m\u001b[0m\n\u001b[0m\u001b[0;32m   4246\u001b[0m                     )\n\u001b[0;32m   4247\u001b[0m                 \u001b[1;31m# Both the mapping *and* the RGBA conversion failed: pretty\u001b[0m\u001b[1;33m\u001b[0m\u001b[1;33m\u001b[0m\u001b[1;33m\u001b[0m\u001b[0m\n",
      "\u001b[1;31mValueError\u001b[0m: 'c' argument has 24 elements, which is not acceptable for use with 'x' with size 1036, 'y' with size 1036."
     ]
    },
    {
     "data": {
      "image/png": "[encoded data removed]",
      "text/plain": [
       "<Figure size 864x864 with 1 Axes>"
      ]
     },
     "metadata": {},
     "output_type": "display_data"
    }
   ],
   "source": [
    "import matplotlib.pyplot as plt\n",
    "\n",
    "plt.figure(figsize=(12, 12))\n",
    "layout = nx.spring_layout(G,iterations=50)\n",
    "\n",
    "#nx.draw_networkx(G, layout, node_size=50, node_color='#BDC3C7', alpha=0.8, linewidths=0.3, with_labels=False)\n",
    "nx.draw_networkx_nodes(G, layout, nodelist=pop_chars, node_color='orange', node_size=pop_chars_size, label=pop_chars)\n",
    "pos = nx.spring_layout(G, iterations=200)\n",
    "nx.draw(G, pos, node_color=range(24), node_size=50, cmap=plt.cm.Blues)\n",
    "\n",
    "plt.show()\n"
   ]
  },
  {
   "cell_type": "markdown",
   "metadata": {},
   "source": [
    "# Conclusions:\n",
    "\n",
    "Overall, this final project demonstrated many of the skills and techniques learned in IMT/LIS 511 for Spring 2018. One of the more difficult tasks was learning a new API. Specifically, the Marvel API only returns a maximum of 100 results at a time making it difficult to have a comprehensive dataset. For example, Spider-Man has a total of 3601 comics, which would require 37 requests to the API. Additionally, when looping to keep requesting all of a character's data, I would often receive a code 500 error. To combat this, and not lose all the data that I had requested in the function, I implemented error handling (via Try/Exception) to keep requesting data again from the API if data wasn't pulled properly. \n",
    "\n",
    "Cleaning the data wasn't also an interesting task. For example, not all data was properly retrieved from the API (i.e., empty rows, improperly formatted rows, etc.). There were over 100 rows that had NaN values for all columns, which I ended up removing from the dataframe. I also needed to modify the date columns (for the comics), converting from string to date and selecting only the first few characters of the date string. \n",
    "\n",
    "Regarding the data visualizations: it was interesting to note that there was a dip in the number of comics for all the top characters around 2015. This could be attributed to the fact that Marvel comics relaunched in 2015 (https://en.wikipedia.org/wiki/All-New,_All-Different_Marvel). "
   ]
  },
  {
   "cell_type": "markdown",
   "metadata": {},
   "source": [
    "### Extras: \n",
    "\n",
    "- This section is a demonstration of the functions on a smaller list of characters (Doctor Strange and Thanos) "
   ]
  },
  {
   "cell_type": "code",
   "execution_count": 593,
   "metadata": {},
   "outputs": [],
   "source": [
    "# Running on smaller list of characters \n",
    "side_characters = ['doctor strange', 'thanos']\n",
    "side_char_df = get_multiCharacterInfo(side_characters)\n",
    "side_char_ids = list(side_char_df['id'])"
   ]
  },
  {
   "cell_type": "code",
   "execution_count": 601,
   "metadata": {},
   "outputs": [],
   "source": [
    "comics_df2, char_df2 = get_multiCharComics(side_char_ids)"
   ]
  }
 ],
 "metadata": {
  "kernelspec": {
   "display_name": "Python 3",
   "language": "python",
   "name": "python3"
  },
  "language_info": {
   "codemirror_mode": {
    "name": "ipython",
    "version": 3
   },
   "file_extension": ".py",
   "mimetype": "text/x-python",
   "name": "python",
   "nbconvert_exporter": "python",
   "pygments_lexer": "ipython3",
   "version": "3.7.1"
  }
 },
 "nbformat": 4,
 "nbformat_minor": 2
}
